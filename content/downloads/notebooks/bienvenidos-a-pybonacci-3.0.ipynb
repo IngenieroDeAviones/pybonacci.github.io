{
 "cells": [
  {
   "cell_type": "markdown",
   "metadata": {},
   "source": [
    "Inauguramos hoy la nueva versión de Pybonacci, la tercera ya, después de años de camino de amor y odio con wordpress. No vamos a hablar mal de wordpress. Nos ha permitido llegar hasta vosotros durante todos estos años pero ya no encajaba con nuestra forma de trabajar en el 2018. Es por ello que en esta nueva etapa vamos a usar herramientas que nos permitan poder crear contenido de forma más fácil y que el paso desde un Jupyter notebook de nuestro PC a la pybonaccisfera sea lo más rápida y automática posible y que sea más fácil para cualquiera de vosotros poder colaborar en compartir el conocimiento de forma libre y accesible."
   ]
  },
  {
   "cell_type": "markdown",
   "metadata": {},
   "source": [
    "En esta entrada vamos a hacer un repaso a lo que hemos hecho durante estos años, lo que hemos conseguido, cómo lo hemos conseguido, cómo lo queremos seguir consiguiendo y lo que esperamos para el pybonacci del futuro."
   ]
  },
  {
   "cell_type": "markdown",
   "metadata": {},
   "source": [
    "# Origenes"
   ]
  },
  {
   "cell_type": "markdown",
   "metadata": {},
   "source": [
    "Kiko, después de darle vueltas durante un tiempo pensó \n",
    "\n",
    "> Python y ciencia en español está poco representado, en inglés hay mucho y muy bueno, hagamos lo mismo para gente que no conoce el inglés... Pero no puedo hacer esto solo, con mis compromisos, mis motivaciones, mis puntas de trabajo,..., si lo empiezo por mi cuenta va a morir a los pocos meses, necesito otros *motivados* como yo,...\n",
    ">\n",
    "> -- <cite>Kiko Correoso</cite>\n",
    "\n",
    "Y así es como llegamos a Juanlu y a David. Fundadores de Pybonacci."
   ]
  },
  {
   "cell_type": "markdown",
   "metadata": {},
   "source": [
    "# Fundación"
   ]
  },
  {
   "cell_type": "markdown",
   "metadata": {},
   "source": [
    "En un meetup de [Python Madrid](https://python-madrid.es/) allá por el año 2012 Kiko les comentó a los otros cientófilos habituales del meetup, Juanlu y David, lo de montar en blog para hablar sobre python científico en español y ambos abrazaron la idea entusiasmadamente. En marzo de 2012 empezamos a discutir por correo cómo abrirnos al mundo y [wordpress.com](https://pybonacci.wordpress.com/) fue el medio elegido. Hicimos tormenta de ideas y barajamos varios nombres para esta nueva aventura:\n",
    "\n",
    "* numeropy \n",
    "* numero-py\n",
    "* cientifipy\n",
    "* Ciencipy\n",
    "* Eulerpy\n",
    "* Cientifi.py\n",
    "* Cientify-py\n",
    "* PyGauss\n",
    "* Pyubble\n",
    "* Pyuler\n",
    "* Pywton\n",
    "\n",
    "El último, Pywton, ganó adeptos hasta que a última hora Kiko puso sobre la mesa Pybonacci y hasta hoy.\n",
    "\n",
    "Muy bien, ya tenemos una identidad, una finalidad, página, twitter,... Todo esto, ¿para qué?"
   ]
  },
  {
   "cell_type": "markdown",
   "metadata": {},
   "source": [
    "# Qué hemos conseguido"
   ]
  },
  {
   "cell_type": "markdown",
   "metadata": {},
   "source": [
    "* Hemos publicado casi 200 entradas.\n",
    "* Hemos recibido más de 1000 comentarios.\n",
    "* Hemos tenido cientos de miles de visitas desde España, Estados Unidos, México, Argentina, Reino Unido, Colombia, Ecuador, Alemania, Francia, Chile, Brasil, Portugal, Costa Rica, Venezuela, Italia, China, Japón,... Prácticamente todo el mundo pero con más presencia en Europa y América.\n",
    "* Hemos entrevistado a gente increible como Fernando Pérez o Manuel Kaufmann,...\n",
    "* Hemos viajado.\n",
    "* Han participado escribiendo entradas 8 <del>motivados</del>personas: Alberto, Álex, Bob, David Pérez, Javier, Jorge, Pablo, Manu, además de los tres fundadores, David, Juanlu y Kiko.\n",
    "* Hemos sorteado libros.\n",
    "* Hemos sorteado entradas de eventos.\n",
    "* Hemos conseguido/promovido donaciones para Python España, para Argentina en Python, para NumFocus,...\n",
    "* A nivel personal no como pybonacci, hemos participado en crear Python España, Python Madrid,... Hemos participado en organizar diferentes PyConES, PyDataMadrid. Hemos formado o formamos parte de la junta directiva de Python España. Hemos gestionado y/o participamos activamente en meetups como el de Python Madrid, PyDataMallorca,... Hemos organizado cursos totalmente disponibles de forma gratuita,...\n",
    "* ¡Hemos hecho camisetas!"
   ]
  },
  {
   "cell_type": "markdown",
   "metadata": {},
   "source": [
    "# ¿Cómo hemos conseguido todo lo anterior?"
   ]
  },
  {
   "cell_type": "markdown",
   "metadata": {},
   "source": [
    "No os vamos a mentir, con mucha dedicación y con mucha motivación:"
   ]
  },
  {
   "cell_type": "markdown",
   "metadata": {},
   "source": [
    "* La dedicación nos sale de dentro. Nos hemos juntado una serie de personas a las que nos gusta compartir lo que aprendemos. Y lo que sabemos lo hemos podido aprender porque otros compartieron antes. Y, sin duda, esperamos que haya más pybonacci's por ahí a los que sirvamos de motivación y/o inspiración.\n",
    "* La motivación nos viene de todos vosotros, de ver que con pequeños pasitos hemos conseguido cosas muy interesantes, a nuestro modesto modo de ver, de ver que reaccionáis positivamente a muchas de las cosas que hemos hecho."
   ]
  },
  {
   "cell_type": "markdown",
   "metadata": {},
   "source": [
    "Todo lo anterior no es gratis, tiene una deuda personal y económica. El tiempo se lo quitamos a otras cosas que también amamos, nuestras familias, nuestro ocio,... Los servidores, dominios, algunos envíos de libros de los sorteos,..., los pagamos de nuestro bolsillo. Ya que hemos llegado hasta aquí y hemos puesto todo lo anterior a vuestra disposición os pedimos/informamos una vez más que os animéis a colaborar con nosotros."
   ]
  },
  {
   "cell_type": "markdown",
   "metadata": {},
   "source": [
    "# ¿Qué no hemos conseguido?"
   ]
  },
  {
   "cell_type": "markdown",
   "metadata": {},
   "source": [
    "Sin duda algo que no hemos conseguido es ser regulares. En estos 6 años de existencia nuestras vidas han sufrido muchos cambios y, a pesar de que nuestra motivación sigue intacta o incluso más fortalecida, nuestra dedicación es diferente. Es por ello que hemos invertido algo de tiempo en cambiar nuestra infraestructura para llegar a la versión 3.0.0 de pybonacci y que nos resulte más fácil poder llegar de nuestro escritorio a tu pantalla. Esperamos poder solventar algo el tema de no publicar durante largos periodos de tiempo.\n",
    "\n",
    "Tampoco hemos conseguido tener diversidad. Todos somos ciudadanos del mundo pero no todos los ciudadanos del mundo son físicos/ingenieros españoles y varones como los que han participado publicando algo en pybonacci hasta ahora. En esta nueva etapa nos gustaría conseguir que el mundo que nos gusta esté mejor representado también en pybonacci. Que todos sigamos siendo ciudadanos del mundo pero que podamos disfrutar de las visiones particulares de cada colectivo como algo que nos enriquece y que adoptamos para mejorar en lugar de como algo que nos separa y nos diferencia.\n",
    "\n",
    "No hemos conseguido involucrar a muchos otros y desconocemos los motivos. Pybonacci está totalmente abierto a todo el que quiera participar independientemente del conocimiento que tenga. Con los nuevos cambios introducidos esperamos que esto sea mucho más sencillo para todos y nos lleguen avalanchas de aportaciones de todos vosotros.\n",
    "\n",
    "Y no habremos conseguido muchas otras cosas que esperamos que nos contéis por el medio que consideréis para intentar aprender y hacer las cosas mejor."
   ]
  },
  {
   "cell_type": "markdown",
   "metadata": {},
   "source": [
    "# Nueva etapa 3.0.0"
   ]
  },
  {
   "cell_type": "markdown",
   "metadata": {},
   "source": [
    "Empezamos nueva etapa usando Pelican. Esperamos introducir mejoras poco a poco para que lo que hacemos sea cada vez más usable.\n",
    "\n",
    "Hemos decidido usar Github Pages como nuestro hosting, esto permite que cualquier persona interesada en escribir un artículo pueda hacerlo de forma sencilla."
   ]
  },
  {
   "cell_type": "markdown",
   "metadata": {},
   "source": [
    "En esta nueva etapa esperamos escribir más, mucho más. Esperamos que participe mucha más gente compartiendo su conocimiento. Esperamos que los campos estén más abiertos y hablemos no solo de ciencia establecida como la química, biología, matemáticas, física, ingeniería,..., sino también de periodismo de datos, sociología, procesamiento del lenguaje natural o cualquier otro campo que se esté revolucionando con esta explosión de datos y conocimiento libre y colaborativo."
   ]
  },
  {
   "cell_type": "markdown",
   "metadata": {},
   "source": [
    "Asi que, ¿a qué esperas para publicar tu primer artículo en Pybonacci? Sólo tienes que echarle un ojo a las instrucciones para contribuidores [aquí](https://github.com/Pybonacci/pybonacci.github.io/blob/sources/CONTRIBUTING.md)."
   ]
  },
  {
   "cell_type": "code",
   "execution_count": null,
   "metadata": {
    "collapsed": true
   },
   "outputs": [],
   "source": []
  }
 ],
 "metadata": {
  "kernelspec": {
   "display_name": "Python 3",
   "language": "python",
   "name": "python3"
  },
  "language_info": {
   "codemirror_mode": {
    "name": "ipython",
    "version": 3
   },
   "file_extension": ".py",
   "mimetype": "text/x-python",
   "name": "python",
   "nbconvert_exporter": "python",
   "pygments_lexer": "ipython3",
   "version": "3.6.5"
  }
 },
 "nbformat": 4,
 "nbformat_minor": 2
}
