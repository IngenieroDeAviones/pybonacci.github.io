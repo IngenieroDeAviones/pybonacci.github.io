{
 "cells": [
  {
   "cell_type": "markdown",
   "metadata": {},
   "source": [
    "Voy a empezar con un chiste:\n",
    "\n",
    "> Un vecino del pueblo pregunta: -*Oye, ¿a tí por qué te llaman 'el Campanas'?*-\n",
    "\n",
    "> 'El Campanas' responde: -*Tolón, tolón,..., tolonterías del pueblo...*-"
   ]
  },
  {
   "cell_type": "markdown",
   "metadata": {},
   "source": [
    "De ahí, de *tolontería*, voy a derivar y relacionar *tontería* y *lotería* (qué bien hilado..., lo sé)."
   ]
  },
  {
   "cell_type": "markdown",
   "metadata": {},
   "source": [
    "Sí, lo habéis adivinado, vamos a calcular las estadísticas de la lotería de navidad para ver si es tontería o es una buena oportunidad de ganar un buen dinero."
   ]
  },
  {
   "cell_type": "markdown",
   "metadata": {},
   "source": [
    "# ¿Qué es la lotería de navidad (española)?"
   ]
  },
  {
   "cell_type": "markdown",
   "metadata": {},
   "source": [
    "Para los que no sean españoles o sean españoles que viven en una cueva y nunca se han comunicado con otro español que no viva en una cueva, la lotería de navidad es un [sorteo de lotería que se realiza cada 22 de diciembre desde el año 1811](https://es.wikipedia.org/wiki/Sorteo_Extraordinario_de_Navidad).\n",
    "\n",
    "En el sorteo de 2018 se van a usar 100.000 números y de cada número se van a sacar 170 series, es decir, que cada número se repetirá 170 veces. Cada número de cada serie es un billete y el billete se divide en 10 décimos. O sea, tenemos:\n",
    "\n",
    "$$ \\begin{align} 100.000 \\quad \\text{números} \\quad \\times \\quad 170 \\quad \\text{series} \\quad & = \\quad 17.000.000 \\quad \\text{billetes} \\end{align} $$\n",
    "$$ \\begin{align} 17.000.000 \\quad \\times \\quad 10 \\quad \\text{décimos} \\quad & = \\quad 170.000.000 \\quad \\text{décimos} \n",
    "\\end{align} $$ \n",
    "\n",
    "Cada décimo cuesta 20 € por lo que si se vendiera todo se recaudarían 3.400.000.000 €.\n",
    "\n",
    "Según leo en varios sitios, en los últimos años se vende alrededor del 70% de décimos."
   ]
  },
  {
   "cell_type": "markdown",
   "metadata": {},
   "source": [
    "# Los premios de la lotería de Navidad (visto en 2018)."
   ]
  },
  {
   "cell_type": "markdown",
   "metadata": {},
   "source": [
    "Hay muchas posibilidades (ahora lo veremos en detalle) de que te toque algo... <strike>pero hay más de que no ganes nada</strike>."
   ]
  },
  {
   "cell_type": "markdown",
   "metadata": {},
   "source": [
    "<table class=\"table table-hover text-centered\">\n",
    "\t<tbody>\n",
    "\t\t<tr class=\"title\">\n",
    "            <td><b>premios por serie</b></td>\n",
    "            <td><b>Total premios</b></td>\n",
    "            <td><b>Importe en euros</b></td>\n",
    "            <td><b>Cantidad ganada (por euro jugado)</b></td>\n",
    "        </tr>\n",
    "        <tr class=\"impar\">\n",
    "            <td><span class=\"texto\">El Gordo (primer premio)</span></td>\n",
    "            <td><span class=\"texto\">1</span></td>\n",
    "            <td><span class=\"texto\">4.000.000</span></td>\n",
    "            <td>20.000€</td>\n",
    "        </tr>\n",
    "        <tr class=\"par\">\n",
    "            <td>Segundo premio</td>\n",
    "            <td>1</td>\n",
    "            <td>1.250.000</td>\n",
    "            <td>6.250€</td>\n",
    "        </tr>\n",
    "        <tr class=\"impar\">\n",
    "            <td>Tercer premio</td>\n",
    "            <td>1</td>\n",
    "            <td>500.000</td>\n",
    "            <td>2.500€</td>\n",
    "        </tr>\n",
    "        <tr class=\"par\">\n",
    "            <td>Cuartos premios</td>\n",
    "            <td>2</td>\n",
    "            <td>200.000</td>\n",
    "            <td>1.000€</td>\n",
    "        </tr>\n",
    "        <tr class=\"impar\">\n",
    "            <td>Quintos premios</td>\n",
    "            <td>8</td>\n",
    "            <td>60.000</td>\n",
    "            <td>300€</td>\n",
    "        </tr>\n",
    "        <tr class=\"par\">\n",
    "            <td>Pedreas de 5 cifras</td>\n",
    "            <td>1.794</td>\n",
    "            <td>1.000</td>\n",
    "            <td>5€</td>\n",
    "        </tr>\n",
    "        <tr class=\"impar\">\n",
    "            <td>Aproximación primer premio</td>\n",
    "            <td>2</td>\n",
    "            <td>20.000</td>\n",
    "            <td>100€</td>\n",
    "        </tr>\n",
    "        <tr class=\"par\">\n",
    "            <td>Aproximación segundo premio</td>\n",
    "            <td>2</td>\n",
    "            <td>12.500</td>\n",
    "            <td>62,5€</td>\n",
    "        </tr>\n",
    "        <tr class=\"impar\">\n",
    "            <td>Aproximación tercer premio</td>\n",
    "            <td>2</td>\n",
    "            <td>9.600</td>\n",
    "            <td>48€</td>\n",
    "        </tr>\n",
    "        <tr class=\"par\">\n",
    "            <td>Centenas del primer premio</td>\n",
    "            <td>99</td>\n",
    "            <td>1.000</td>\n",
    "            <td>5€</td>\n",
    "        </tr>\n",
    "        <tr class=\"impar\">\n",
    "            <td>Centenas del segundo premio</td>\n",
    "            <td>99</td>\n",
    "            <td>1.000</td>\n",
    "            <td>5€</td>\n",
    "        </tr>\n",
    "        <tr class=\"par\">\n",
    "            <td>Centenas del tercer premio</td>\n",
    "            <td>99</td>\n",
    "            <td>1.000</td>\n",
    "            <td>5€</td>\n",
    "        </tr>\n",
    "        <tr class=\"impar\">\n",
    "            <td>Centenas de dos cuartos premio</td>\n",
    "            <td>198</td>\n",
    "            <td>1.000</td>\n",
    "            <td>5€</td>\n",
    "        </tr>\n",
    "        <tr class=\"par\">\n",
    "            <td>Dos últimas del primer premio</td>\n",
    "            <td>999</td>\n",
    "            <td>1.000</td>\n",
    "            <td>6€</td>\n",
    "        </tr>\n",
    "        <tr class=\"impar\">\n",
    "            <td>Dos últimas del segundo premio</td>\n",
    "            <td>999</td>\n",
    "            <td>1.000</td>\n",
    "            <td>5€</td>\n",
    "        </tr>\n",
    "        <tr class=\"par\">\n",
    "            <td>Dos últimas del tercer premio</td>\n",
    "            <td>999</td>\n",
    "            <td>1.000</td>\n",
    "            <td>5€</td>\n",
    "        </tr>\n",
    "        <tr class=\"impar\">\n",
    "            <td>Reintegros (última cifra Gordo)</td>\n",
    "            <td>9.999</td>\n",
    "            <td>200</td>\n",
    "            <td>1€</td>\n",
    "        </tr>\n",
    "        <tr class=\"total\">\n",
    "            <th>TOTALES POR SERIE</th>\n",
    "            <th>15.304</th>\n",
    "            <th>&nbsp;</th>\n",
    "            <th>70% en premios</th>\n",
    "        </tr>\n",
    "    </tbody>\n",
    "</table>"
   ]
  },
  {
   "cell_type": "markdown",
   "metadata": {},
   "source": [
    "# Vamos a empezar a calcular estadísticas"
   ]
  },
  {
   "cell_type": "markdown",
   "metadata": {},
   "source": [
    "**[AVISO: En algunas partes verás código de programación. Este código servirá para hacer los cálculos pero espero que no sea relevante saber programar en Python para que puedas seguir el hilo]**."
   ]
  },
  {
   "cell_type": "markdown",
   "metadata": {},
   "source": [
    "En la tabla anterior los premios son por billete (que son 10 décimos). Lo normal es que la gente compre un décimo y no un billete completo (10 décimos, 200 €).\n",
    "\n",
    "Viendo la tabla anterior vemos que si compras un décimo tienes 1 entre 100.000 posibilidades de que te toquen 400.000 €, de los cuales [la Agencia Tributaria](https://es.wikipedia.org/wiki/Agencia_Estatal_de_Administraci%C3%B3n_Tributaria) se llevará el 20% de todo lo que sobrepase los 10.000 € (\\*).\n",
    "\n",
    "_(\\*) Todos los premios que sobrepasen los 10.000 € (en 2018) pagan el 20% del valor por encima de esos 10.000 € en impuestos. Aunque [esto irá cambiando en el futuro](http://www.expansion.com/economia/declaracion-renta/2018/05/16/5afc2b26468aebf9238b46e3.html)._\n",
    "\n",
    "Por tanto, si te tocan 400.000€ en 2018 pagarás:"
   ]
  },
  {
   "cell_type": "code",
   "execution_count": 1,
   "metadata": {},
   "outputs": [
    {
     "name": "stdout",
     "output_type": "stream",
     "text": [
      "78000.0 € a Hacienda\n"
     ]
    }
   ],
   "source": [
    "print(f\"{(400_000 - 10_000) * 0.2} € a Hacienda\")"
   ]
  },
  {
   "cell_type": "markdown",
   "metadata": {},
   "source": [
    "Por tanto, si pagas 78.000 € a hacienda te quedarán:"
   ]
  },
  {
   "cell_type": "code",
   "execution_count": 2,
   "metadata": {},
   "outputs": [
    {
     "name": "stdout",
     "output_type": "stream",
     "text": [
      "322000 € para ti\n"
     ]
    }
   ],
   "source": [
    "print(f\"{400_000 - 78_000} € para ti\")"
   ]
  },
  {
   "cell_type": "markdown",
   "metadata": {},
   "source": [
    "Como hemos comentado más arriba, tienes una posibilidad entre 100.000 de que salga tu número en el sorteo. Por tanto, tienes las siguientes probabilidades de que te toque un premio tan cuantioso, por encima de 300.000 €:"
   ]
  },
  {
   "cell_type": "code",
   "execution_count": 3,
   "metadata": {},
   "outputs": [
    {
     "name": "stdout",
     "output_type": "stream",
     "text": [
      "0.001% de que te toque\n"
     ]
    }
   ],
   "source": [
    "print(f\"{100 * 1 / 100_000}% de que te toque\")"
   ]
  },
  {
   "cell_type": "markdown",
   "metadata": {},
   "source": [
    "Y las siguientes de que NO te toque."
   ]
  },
  {
   "cell_type": "code",
   "execution_count": 4,
   "metadata": {},
   "outputs": [
    {
     "name": "stdout",
     "output_type": "stream",
     "text": [
      "99.999% de que NO te toque\n"
     ]
    }
   ],
   "source": [
    "print(f\"{100 * 99_999 / 100_000}% de que NO te toque\")"
   ]
  },
  {
   "cell_type": "markdown",
   "metadata": {},
   "source": [
    "Por otro lado, vemos que hay premios en hasta 15.304 combinaciones, que no números, diferentes de los 100.000 en juego. Por simplificar un poco en este punto vamos a considerar que son 15.304 números los que pueden resultar premiados (serán menos, luego lo veremos), por tanto, bajo este supuesto la probabilidad de que al menos recuperemos la inversión inicial (los 20 € del décimo) sería:"
   ]
  },
  {
   "cell_type": "code",
   "execution_count": 5,
   "metadata": {},
   "outputs": [
    {
     "name": "stdout",
     "output_type": "stream",
     "text": [
      "15.304% de que al menos recuperes lo invertido\n"
     ]
    }
   ],
   "source": [
    "print(f\"{100 * 15_304 / 100_000}% de que al menos recuperes lo invertido\")"
   ]
  },
  {
   "cell_type": "markdown",
   "metadata": {},
   "source": [
    "Por otro lado, la probabilidad de perder tus 20 € sería:"
   ]
  },
  {
   "cell_type": "code",
   "execution_count": 6,
   "metadata": {},
   "outputs": [
    {
     "name": "stdout",
     "output_type": "stream",
     "text": [
      "84.696% de perderlo todo\n"
     ]
    }
   ],
   "source": [
    "print(f\"{100 - 100 * 15_304 / 100_000}% de perderlo todo\")"
   ]
  },
  {
   "cell_type": "markdown",
   "metadata": {},
   "source": [
    "# Vamos a seguir calculando estadísticas"
   ]
  },
  {
   "cell_type": "markdown",
   "metadata": {},
   "source": [
    "¿Cual sería la probabilidad de ganar algo? Si cobras el reintegro, simplificando nuevamente, no estás ganando nada, solo te quedas como estabas, con tus 20 € en el bolsillo, por lo que es lo mismo que no jugar."
   ]
  },
  {
   "cell_type": "markdown",
   "metadata": {},
   "source": [
    "Repito, simplificando un poco, vemos que de los 15.304 posibles premios, 9.999 son reintegros por lo que no ganas nada. Por tanto, nos quedan 15.304 - 9.999 posibilidades, es decir:"
   ]
  },
  {
   "cell_type": "code",
   "execution_count": 7,
   "metadata": {},
   "outputs": [
    {
     "name": "stdout",
     "output_type": "stream",
     "text": [
      "5305 números con premio real\n"
     ]
    }
   ],
   "source": [
    "print(f\"{15_304 - 9_999} números con premio real\")"
   ]
  },
  {
   "cell_type": "markdown",
   "metadata": {},
   "source": [
    "La probabilidad de que realmente ganemos algo, después de tener esto en cuenta, sería:"
   ]
  },
  {
   "cell_type": "code",
   "execution_count": 8,
   "metadata": {},
   "outputs": [
    {
     "name": "stdout",
     "output_type": "stream",
     "text": [
      "5.305% de que salgas ganando algo\n"
     ]
    }
   ],
   "source": [
    "print(f\"{100 * 5_305 / 100_000}% de que salgas ganando algo\")"
   ]
  },
  {
   "cell_type": "markdown",
   "metadata": {},
   "source": [
    "Y la probabilidad de que nos quedemos como estábamos o peor sería:"
   ]
  },
  {
   "cell_type": "code",
   "execution_count": 9,
   "metadata": {},
   "outputs": [
    {
     "name": "stdout",
     "output_type": "stream",
     "text": [
      "94.695% de que estemos igual o peor\n"
     ]
    }
   ],
   "source": [
    "print(f\"{100 - 100 * 5_305 / 100_000}% de que estemos igual o peor\")"
   ]
  },
  {
   "cell_type": "markdown",
   "metadata": {},
   "source": [
    "Por tanto, vemos que, más o menos, tenemos 1 posibilidad entre 20 de salir ganando algo. Para los que lo ven con el vaso medio vacío, tenemos, aproximadamente, 19 posibilidades de 20 de quedarnos igual o peor que estábamos."
   ]
  },
  {
   "cell_type": "markdown",
   "metadata": {},
   "source": [
    "Si comprásemos 20 décimos (400 €) con números diferentes se podría esperar que te tocase algo. Pero vemos que la inmensa mayoría de los premios son de 100 € al décimo (1.000 € al billete)."
   ]
  },
  {
   "cell_type": "markdown",
   "metadata": {},
   "source": [
    "<table class=\"table table-hover text-centered\">\n",
    "\t<tbody>\n",
    "\t\t<tr class=\"title\">\n",
    "            <td><b>premios por serie</b></td>\n",
    "            <td><b>Total premios</b></td>\n",
    "            <td><b>Importe en euros</b></td>\n",
    "            <td><b>Cantidad ganada (por euro jugado)</b></td>\n",
    "        </tr>\n",
    "        <tr class=\"par\">\n",
    "            <td>Pedreas de 5 cifras</td>\n",
    "            <td>1.794</td>\n",
    "            <td>1.000</td>\n",
    "            <td>5€</td>\n",
    "        </tr>\n",
    "        <tr class=\"par\">\n",
    "            <td>Centenas del primer premio</td>\n",
    "            <td>99</td>\n",
    "            <td>1.000</td>\n",
    "            <td>5€</td>\n",
    "        </tr>\n",
    "        <tr class=\"impar\">\n",
    "            <td>Centenas del segundo premio</td>\n",
    "            <td>99</td>\n",
    "            <td>1.000</td>\n",
    "            <td>5€</td>\n",
    "        </tr>\n",
    "        <tr class=\"par\">\n",
    "            <td>Centenas del tercer premio</td>\n",
    "            <td>99</td>\n",
    "            <td>1.000</td>\n",
    "            <td>5€</td>\n",
    "        </tr>\n",
    "        <tr class=\"impar\">\n",
    "            <td>Centenas de dos cuartos premio</td>\n",
    "            <td>198</td>\n",
    "            <td>1.000</td>\n",
    "            <td>5€</td>\n",
    "        </tr>\n",
    "        <tr class=\"par\">\n",
    "            <td>Dos últimas del primer premio</td>\n",
    "            <td>999</td>\n",
    "            <td>1.000</td>\n",
    "            <td>6€</td>\n",
    "        </tr>\n",
    "        <tr class=\"impar\">\n",
    "            <td>Dos últimas del segundo premio</td>\n",
    "            <td>999</td>\n",
    "            <td>1.000</td>\n",
    "            <td>5€</td>\n",
    "        </tr>\n",
    "        <tr class=\"par\">\n",
    "            <td>Dos últimas del tercer premio</td>\n",
    "            <td>999</td>\n",
    "            <td>1.000</td>\n",
    "            <td>5€</td>\n",
    "        </tr>\n",
    "        <tr class=\"total\">\n",
    "            <th>TOTALES POR SERIE</th>\n",
    "            <th>5.286</th>\n",
    "            <th>&nbsp;</th>\n",
    "            <th>&nbsp;</th>\n",
    "        </tr>\n",
    "    </tbody>\n",
    "</table>"
   ]
  },
  {
   "cell_type": "markdown",
   "metadata": {},
   "source": [
    "Por tanto, la probabilidad de que, habiéndote tocado un premio, el premio sea de 100 € sería:"
   ]
  },
  {
   "cell_type": "code",
   "execution_count": 10,
   "metadata": {},
   "outputs": [
    {
     "name": "stdout",
     "output_type": "stream",
     "text": [
      "99.64184731385485% de que tu premio sea de 100 €\n"
     ]
    }
   ],
   "source": [
    "print(f\"{100 * 5_286 / 5_305}% de que tu premio sea de 100 €\")"
   ]
  },
  {
   "cell_type": "markdown",
   "metadata": {},
   "source": [
    "Por tanto, en el caso de que te tocase un premio, comprando 20 décimos, la probabilidad de que este premio fuera menor (100 € al décimo) sería muy alta. Por tanto, es probable que el premio fuese de 100 € y, en esta hipotética situación, estaríamos perdiendo 300 €. O sea que, aunque ganemos, perdemos..."
   ]
  },
  {
   "cell_type": "markdown",
   "metadata": {},
   "source": [
    "# Los premios en detalle"
   ]
  },
  {
   "cell_type": "markdown",
   "metadata": {},
   "source": [
    "Hasta ahora he comentado que estaba simplificando un poco el tema. En realidad, los premios son un poco más complejos puesto que hay combinaciones entre ellos ya que no todos los premios salen del bombo y el número de números premiados es menor debido a estas combinaciones.\n",
    "\n",
    "* Por ejemplo, el primer premio (el Gordo) sale el 55.555. Vemos que el reintegro (cualquier número que acabe en 5) serían 9.999. Pero también hay premio para los números con las dos últimas cifras iguales al primer premio. Por tanto, si yo tengo el 65.355 tendría premio por el reintegro y por las dos últimas cifras. Siendo el mismo número tendría dos premios distintos.\n",
    "* Otro ejemplo, el primer premio (el Gordo) sale el 15.000. El número anterior y posterior, 14.999 y 15.001, respectivamente, tendrían premio, pero se podría dar el caso que el segundo premio saliera el 15.001. Si yo poseo el 15.001 tendría el segundo premio y el premio del número posterior al primer premio.\n",
    "\n",
    "Por tanto, algunas de las estadísticas anteriores, basadas en el número total de números premiados serían incluso más desfavorables para vosotros.\n",
    "\n",
    "¿Cómo funciona cuando estamos en una situación como las anteriores? No lo sé muy bien puesto que no he encontrado el reglamento detallado en ningún sitio. Leyendo el último párrafo [aquí](http://www.rtve.es/sorteos/loteria-navidad/premios/) parece que los premios se acumulan. [Aquí](http://www.selae.es/es/web%2Dcorporativa/normativa/normativa%2Dde%2Dlos%2Djuegos/loteria%2Dnacional) no he sido capaz de encontrar nada.\n",
    "\n",
    "En el gráfico inferior podéis ver lo que sale del bombo y es totalmente aleatorio (cajas verdes) y lo que sale condicionado, números que no salen directamente del bombo (cajas negras)."
   ]
  },
  {
   "cell_type": "markdown",
   "metadata": {},
   "source": [
    "![Combinaciones para premios](https://www.pybonacci.org/images/2018/11/Combinaciones.png?style=centerme)"
   ]
  },
  {
   "cell_type": "markdown",
   "metadata": {},
   "source": [
    "# Simulaciones aleatorias para ver distintas situaciones"
   ]
  },
  {
   "cell_type": "markdown",
   "metadata": {},
   "source": [
    "Como la casuística es muy grande vamos a lanzar una serie de simulaciones aleatorias para hacernos idea de nuestras posibilidades en distintas situaciones:\n",
    "\n",
    "* Comprando un único décimo\n",
    "* comprando varios décimos del mismo número\n",
    "* Comprando varios décimos de números distintos\n",
    "* ..."
   ]
  },
  {
   "cell_type": "markdown",
   "metadata": {},
   "source": [
    "Algunas condiciones que vamos a imponer:\n",
    "\n",
    "* Suponemos que la venta total de décimos varia entre el 60% y el 75% para saber lo total recaudado por el estado (la lotería nacional depende del estado español).\n",
    "* Para simplificar suponemos que compramos décimos enteros. En España es muy habitual comprar partes de décimos que repartes, por ejemplo, entre compañeros de trabajo, familia, amigos,..., de tal forma que una persona juega por una parte del décimo.\n",
    "* Consideramos que 2/3 partes de las veces compramos décimos con números distintos y 1/3 parte de las veces compramos décimos del mismo número.\n",
    "* Vamos a comprar desde 1 hasta 10 décimos para no hacerlo mucho más complicado (ni costoso para tu bolsillo).\n",
    "* Como es un sorteo totalmente aleatorio consideramos que cualquier número tiene la misma probabilidad de salir premiado.\n",
    "* Como puede haber muchas combinaciones en las que no tengo ni idea de lo que pasa voy a considerar siempre la situación más favorable para el jugador, el jugador se lleva el premio acumulado de todas las combinaciones posibles (ver sección anterior)."
   ]
  },
  {
   "cell_type": "markdown",
   "metadata": {},
   "source": [
    "Un poco de código para hacer los cálculos y enseñar los resultados:"
   ]
  },
  {
   "cell_type": "code",
   "execution_count": 1,
   "metadata": {
    "collapsed": true
   },
   "outputs": [],
   "source": [
    "import numpy as np\n",
    "import matplotlib.pyplot as plt\n",
    "plt.style.use(\"ggplot\")\n",
    "import pandas as pd\n",
    "%matplotlib inline"
   ]
  },
  {
   "cell_type": "markdown",
   "metadata": {},
   "source": [
    "Usamos una semilla para que los números sean reproducibles."
   ]
  },
  {
   "cell_type": "code",
   "execution_count": 2,
   "metadata": {
    "collapsed": true
   },
   "outputs": [],
   "source": [
    "np.random.seed(1234)"
   ]
  },
  {
   "cell_type": "markdown",
   "metadata": {},
   "source": [
    "Un poco de funcionalidad para obtener los números de un sorteo de forma aleatoria."
   ]
  },
  {
   "cell_type": "code",
   "execution_count": 3,
   "metadata": {
    "collapsed": true
   },
   "outputs": [],
   "source": [
    "def hundreds(n):\n",
    "    top = 100 * np.ceil((n + 1) / 100)\n",
    "    bottom = top - 100\n",
    "    hundred = set(np.arange(bottom, top))\n",
    "    hundred.remove(n)\n",
    "    hundred = np.array(list(hundred))\n",
    "    return hundred\n",
    "\n",
    "def latest2(n):\n",
    "    last2 = n % 100\n",
    "    numbers = set(np.arange(0, 100_000, 100) + last2)\n",
    "    numbers.remove(n)\n",
    "    numbers = np.array(list(numbers))\n",
    "    return numbers\n",
    "\n",
    "def refund(n):\n",
    "    last = n % 10\n",
    "    numbers = set(np.arange(0, 100_000, 10) + last)\n",
    "    numbers.remove(n)\n",
    "    numbers = np.array(list(numbers))\n",
    "    return numbers\n",
    "\n",
    "def get_lucky_numbers():\n",
    "    numbers = {}\n",
    "    _numbers = set(np.random.choice(np.arange(100_000, dtype=np.int), \n",
    "                                    size=1807, #1st + 2nd + 3rd + 4th + 5th + pedrea \n",
    "                                    replace=False))\n",
    "    # from first to fifth prizes\n",
    "    numbers[\"first\"] = np.array([_numbers.pop()])\n",
    "    numbers[\"second\"] = np.array([_numbers.pop()])\n",
    "    numbers[\"third\"] = np.array([_numbers.pop()])\n",
    "    numbers[\"fourth\"] = np.array([_numbers.pop() for i in range(2)])\n",
    "    numbers[\"fifth\"] = np.array([_numbers.pop() for i in range(8)])\n",
    "    # pedrea\n",
    "    numbers[\"pedrea\"] = np.array(list(_numbers))\n",
    "    # Numbers close to the first prize\n",
    "    numbers[\"aprox1st\"] = np.array([numbers[\"first\"] - 1,\n",
    "                                    numbers[\"first\"] + 1])\n",
    "    # Numbers close to the second prize\n",
    "    numbers[\"aprox2nd\"] = np.array([numbers[\"second\"] - 1,\n",
    "                                    numbers[\"second\"] + 1])\n",
    "    # Numbers close to the third prize\n",
    "    numbers[\"aprox3rd\"] = np.array([numbers[\"third\"] - 1,\n",
    "                                    numbers[\"third\"] + 1])\n",
    "    # Hundred close to the first prize\n",
    "    numbers[\"hundred1st\"] = hundreds(numbers[\"first\"][0])\n",
    "    # Hundred close to the second prize\n",
    "    numbers[\"hundred2nd\"] = hundreds(numbers[\"second\"][0])\n",
    "    # Hundred close to the third prize\n",
    "    numbers[\"hundred3rd\"] = hundreds(numbers[\"third\"][0])\n",
    "    # Hundred close to the fourth prize\n",
    "    h100 = np.append(\n",
    "        hundreds(numbers[\"fourth\"][0]),\n",
    "        hundreds(numbers[\"fourth\"][1])\n",
    "    )\n",
    "    numbers[\"hundred4th\"] = h100\n",
    "    # latest two digits of the first prize\n",
    "    numbers[\"two1st\"] = latest2(numbers[\"first\"][0])\n",
    "    # latest two digits of the second prize\n",
    "    numbers[\"two2nd\"] = latest2(numbers[\"second\"][0])\n",
    "    # latest two digits of the third prize\n",
    "    numbers[\"two3rd\"] = latest2(numbers[\"third\"][0])\n",
    "    # Refund (reintegro)\n",
    "    numbers[\"refund\"] = refund(numbers[\"first\"][0])\n",
    "    \n",
    "    return numbers"
   ]
  },
  {
   "cell_type": "markdown",
   "metadata": {},
   "source": [
    "Diccionario con los premios a asignar a cada categoría."
   ]
  },
  {
   "cell_type": "code",
   "execution_count": 4,
   "metadata": {
    "collapsed": true
   },
   "outputs": [],
   "source": [
    "prizes = { # after taxes\n",
    "    \"first\": 322_000,\n",
    "    \"second\": 115_000,\n",
    "    \"third\": 42_000,\n",
    "    \"fourth\": 18_000, \n",
    "    \"fifth\": 6_000,\n",
    "    \"pedrea\": 100,\n",
    "    \"aprox1st\": 2_000,\n",
    "    \"aprox2nd\": 1_250,\n",
    "    \"aprox3rd\": 960,\n",
    "    \"hundred1st\": 100,\n",
    "    \"hundred2nd\": 100,\n",
    "    \"hundred3rd\": 100,\n",
    "    \"hundred4th\": 100,\n",
    "    \"two1st\": 100,\n",
    "    \"two2nd\": 100,\n",
    "    \"two3rd\": 100,\n",
    "    \"refund\": 20\n",
    "}"
   ]
  },
  {
   "cell_type": "markdown",
   "metadata": {},
   "source": [
    "La siguiente clase nos valdrá para un sorteo"
   ]
  },
  {
   "cell_type": "code",
   "execution_count": 5,
   "metadata": {
    "collapsed": true
   },
   "outputs": [],
   "source": [
    "class Raffle:\n",
    "    def __init__(self):\n",
    "        self.raffle_numbers = get_lucky_numbers()\n",
    "        self.raffle_prizes = prizes\n",
    "        self.number_of_tickets = np.random.choice(range(1, 11))\n",
    "        self.repeated = np.random.choice((True, False, False))\n",
    "        if self.repeated:\n",
    "            self.my_numbers = np.repeat(np.random.choice(range(100_000)), \n",
    "                                        self.number_of_tickets)\n",
    "        else:\n",
    "            self.my_numbers = np.random.choice(range(100_000), \n",
    "                                               size=self.number_of_tickets)\n",
    "        self.my_expenses = 20 * self.number_of_tickets\n",
    "        self.my_earnings = self._get_earnings()\n",
    "    \n",
    "    def _get_earnings(self):\n",
    "        earnings = 0\n",
    "        for n in self.my_numbers:\n",
    "            for key in self.raffle_numbers.keys():\n",
    "                if n in self.raffle_numbers[key]:\n",
    "                    earnings += self.raffle_prizes[key]\n",
    "        return earnings"
   ]
  },
  {
   "cell_type": "markdown",
   "metadata": {},
   "source": [
    "Vamos a suponer que somos seres que vivimos muuuuuuchos años. En este ejemplo voy a considerar que asistimos a 10.000 sorteos (10.000 años jugando a la lotería de navidad sin fallar ningún año comprando entre uno y 10 décimos)."
   ]
  },
  {
   "cell_type": "code",
   "execution_count": 6,
   "metadata": {
    "collapsed": true
   },
   "outputs": [],
   "source": [
    "# No es muy eficiente pero espero que se entienda lo que hacemos:\n",
    "# Tarda un poco...\n",
    "sorteos = 10_000\n",
    "results = pd.DataFrame(index=range(sorteos),\n",
    "                       columns=[\"#tickets\", \"Repeated\", \"Expense\", \"Earning\"])\n",
    "for i in range(sorteos):\n",
    "    r = Raffle()\n",
    "    results.iloc[i] = (r.number_of_tickets, \n",
    "                       r.repeated, \n",
    "                       r.my_expenses, \n",
    "                       r.my_earnings)"
   ]
  },
  {
   "cell_type": "markdown",
   "metadata": {},
   "source": [
    "Hemos guardado los resultados en un *DataFrame*. Vamos a hacernos una serie de preguntas y vamos a ver las respuestas:"
   ]
  },
  {
   "cell_type": "markdown",
   "metadata": {},
   "source": [
    "* Después de 10.000 años jugando, en global, ¿he salido ganando?"
   ]
  },
  {
   "cell_type": "code",
   "execution_count": 7,
   "metadata": {},
   "outputs": [
    {
     "data": {
      "text/plain": [
       "<matplotlib.axes._subplots.AxesSubplot at 0x7f69079426d8>"
      ]
     },
     "execution_count": 7,
     "metadata": {},
     "output_type": "execute_result"
    },
    {
     "data": {
      "image/png": "[encoded data removed]",
      "text/plain": [
       "<Figure size 432x288 with 1 Axes>"
      ]
     },
     "metadata": {
      "needs_background": "light"
     },
     "output_type": "display_data"
    }
   ],
   "source": [
    "results.loc[:, [\"Expense\", \"Earning\"]].sum().plot.barh()"
   ]
  },
  {
   "cell_type": "markdown",
   "metadata": {},
   "source": [
    "Pues parece que no, he perdido bastante más de lo que he ganado."
   ]
  },
  {
   "cell_type": "markdown",
   "metadata": {},
   "source": [
    "* ¿He ganado el gordo alguna vez?"
   ]
  },
  {
   "cell_type": "code",
   "execution_count": 8,
   "metadata": {},
   "outputs": [
    {
     "data": {
      "text/plain": [
       "0"
      ]
     },
     "execution_count": 8,
     "metadata": {},
     "output_type": "execute_result"
    }
   ],
   "source": [
    "(results.loc[:, \"Earning\"] > 300_000).sum()"
   ]
  },
  {
   "cell_type": "markdown",
   "metadata": {},
   "source": [
    "Me sale un cero patatero :-("
   ]
  },
  {
   "cell_type": "markdown",
   "metadata": {},
   "source": [
    "¿Cuánto es lo máximo que he ganado en un único sorteo?"
   ]
  },
  {
   "cell_type": "code",
   "execution_count": 9,
   "metadata": {},
   "outputs": [
    {
     "data": {
      "text/plain": [
       "115100"
      ]
     },
     "execution_count": 9,
     "metadata": {},
     "output_type": "execute_result"
    }
   ],
   "source": [
    "results.loc[:, \"Earning\"].max()"
   ]
  },
  {
   "cell_type": "markdown",
   "metadata": {},
   "source": [
    "¿Cuántos años no he ganado nada o he acabado perdiendo dinero?"
   ]
  },
  {
   "cell_type": "code",
   "execution_count": 10,
   "metadata": {},
   "outputs": [
    {
     "data": {
      "text/plain": [
       "9137"
      ]
     },
     "execution_count": 10,
     "metadata": {},
     "output_type": "execute_result"
    }
   ],
   "source": [
    "((results.loc[:, \"Earning\"] - results.loc[:, \"Expense\"]) <= 0).sum()"
   ]
  },
  {
   "cell_type": "markdown",
   "metadata": {},
   "source": [
    "El 91.37% de las veces no gano nada o pierdo dinero."
   ]
  },
  {
   "cell_type": "markdown",
   "metadata": {},
   "source": [
    "¿Cuál es la distribución de mis premios en 10.000 años?"
   ]
  },
  {
   "cell_type": "code",
   "execution_count": 11,
   "metadata": {},
   "outputs": [
    {
     "data": {
      "image/png": "[encoded data removed]",
      "text/plain": [
       "<Figure size 1080x360 with 1 Axes>"
      ]
     },
     "metadata": {
      "needs_background": "light"
     },
     "output_type": "display_data"
    }
   ],
   "source": [
    "bins = np.arange(0, 120_000, 1000)\n",
    "ax = results.loc[:, \"Earning\"].plot.hist(bins=bins, figsize=(15, 5))\n",
    "ax.semilogy();"
   ]
  },
  {
   "cell_type": "markdown",
   "metadata": {},
   "source": [
    "¿Cómo están mis premios ordenados de mayor a menor?"
   ]
  },
  {
   "cell_type": "code",
   "execution_count": 18,
   "metadata": {},
   "outputs": [
    {
     "data": {
      "image/png": "[encoded data removed]",
      "text/plain": [
       "<Figure size 1080x360 with 1 Axes>"
      ]
     },
     "metadata": {
      "needs_background": "light"
     },
     "output_type": "display_data"
    }
   ],
   "source": [
    "premios = results.loc[:, \"Earning\"] - results.loc[:, \"Expense\"]\n",
    "fig, ax = plt.subplots(figsize=(15, 5))\n",
    "ax.bar(range(0, 900),\n",
    "       premios.sort_values(ascending=False)[0:900].values)\n",
    "ax.semilogy();"
   ]
  },
  {
   "cell_type": "markdown",
   "metadata": {},
   "source": [
    "Vemos que las ganancias por debajo de 100€ son la mayoría."
   ]
  },
  {
   "cell_type": "markdown",
   "metadata": {},
   "source": [
    "Mis diez mejores ganancias han sido:"
   ]
  },
  {
   "cell_type": "code",
   "execution_count": 20,
   "metadata": {},
   "outputs": [
    {
     "data": {
      "text/plain": [
       "2524    115040\n",
       "7604      5880\n",
       "1585      5860\n",
       "8826      5860\n",
       "3918      2000\n",
       "5783      1960\n",
       "3905      1620\n",
       "5609      1370\n",
       "8704      1000\n",
       "9194      1000\n",
       "dtype: object"
      ]
     },
     "execution_count": 20,
     "metadata": {},
     "output_type": "execute_result"
    }
   ],
   "source": [
    "(\n",
    "    results.loc[:, \"Earning\"] - \n",
    "    results.loc[:, \"Expense\"]\n",
    ").sort_values(ascending=False)[0:10]"
   ]
  },
  {
   "cell_type": "markdown",
   "metadata": {},
   "source": [
    "En 10.000 años solo he conseguido 8 premios por encima de los 1.000 €."
   ]
  },
  {
   "cell_type": "markdown",
   "metadata": {},
   "source": [
    "En promedio, ¿gano más si repito el mismo número, es decir, si compro varios décimos del mismo número, o si compro números diferentes?"
   ]
  },
  {
   "cell_type": "code",
   "execution_count": 23,
   "metadata": {},
   "outputs": [
    {
     "data": {
      "text/plain": [
       "-69.03603326147213"
      ]
     },
     "execution_count": 23,
     "metadata": {},
     "output_type": "execute_result"
    }
   ],
   "source": [
    "(\n",
    "    results.loc[results.Repeated == True, \"Earning\"] -\n",
    "    results.loc[results.Repeated == True, \"Expense\"]\n",
    ").mean()"
   ]
  },
  {
   "cell_type": "code",
   "execution_count": 24,
   "metadata": {},
   "outputs": [
    {
     "data": {
      "text/plain": [
       "-47.69583888642085"
      ]
     },
     "execution_count": 24,
     "metadata": {},
     "output_type": "execute_result"
    }
   ],
   "source": [
    "(\n",
    "    results.loc[results.Repeated == False, \"Earning\"] -\n",
    "    results.loc[results.Repeated == False, \"Expense\"]\n",
    ").mean()"
   ]
  },
  {
   "cell_type": "markdown",
   "metadata": {},
   "source": [
    "Pues parece que la estrategia de no repetir el número es mejor ya que, en promedio, pierdo menos dinero."
   ]
  },
  {
   "cell_type": "markdown",
   "metadata": {},
   "source": [
    "¿Los mejores premios los consigo cuando repito números o cuando compro números diferentes?"
   ]
  },
  {
   "cell_type": "code",
   "execution_count": 25,
   "metadata": {},
   "outputs": [
    {
     "data": {
      "text/plain": [
       "155"
      ]
     },
     "execution_count": 25,
     "metadata": {},
     "output_type": "execute_result"
    }
   ],
   "source": [
    "((\n",
    "    results.loc[results.Repeated == True, \"Earning\"] -\n",
    "    results.loc[results.Repeated == True, \"Expense\"]\n",
    ") > 100).sum()"
   ]
  },
  {
   "cell_type": "code",
   "execution_count": 26,
   "metadata": {},
   "outputs": [
    {
     "data": {
      "text/plain": [
       "76"
      ]
     },
     "execution_count": 26,
     "metadata": {},
     "output_type": "execute_result"
    }
   ],
   "source": [
    "((\n",
    "    results.loc[results.Repeated == False, \"Earning\"] -\n",
    "    results.loc[results.Repeated == False, \"Expense\"]\n",
    ") > 100).sum()"
   ]
  },
  {
   "cell_type": "markdown",
   "metadata": {},
   "source": [
    "Si repito números tiendo a obtener premios más altos, como es de esperar. Si compro 10 décimos del mismo número y me toca el gordo ganaré más de 3.000.000 € pero, claro, mis probabilidades de pillar el gordo se reducen si lo comparo a comprar 10 décimos con números diferentes."
   ]
  },
  {
   "cell_type": "markdown",
   "metadata": {},
   "source": [
    "Os podéis seguir haciendo preguntas ya que podéis descargar el notebook de [aquí](https://github.com/Pybonacci/pybonacci.github.io/raw/sources/content/downloads/notebooks/TOLoNteria_de_Navidad.ipynb) e introducir vuestros propios cálculos."
   ]
  },
  {
   "cell_type": "markdown",
   "metadata": {},
   "source": [
    "# Notas"
   ]
  },
  {
   "cell_type": "markdown",
   "metadata": {},
   "source": [
    "Si juegas y no ganas en realidad estás ganando ya que parte del dinero se va a destinar a generar empleo, al Tesoro del Estado,... El que no se consuela es porque no quiere.\n",
    "\n",
    "Muchas buenas causas (o no tan buenas) se financian usando participaciones de la lotería por lo que, además de jugar, puedes aportar a la causa/proyecto/... que consideres. Para el que no lo sepa, una participación es que compras un boleto donde parte se destina al sorteo y parte se destina a lo que considere el que organiza esa participación (comedores sociales, pagar parte de viajes de estudios de estudiantes,...).\n",
    "\n",
    "Ya, pensando un poco más egoistamente, en general parece poco probable que te lleves un gran premio (excepto si te apellidas Fabra). Es algo más probable, aunque no mucho más, que te lleves un premio menor y es altamente probable que no ganes nada o pierdas dinero. Si quieres ganar algo es mejor que compres números diferentes, como sería de esperar.\n",
    "\n",
    "De las loterías a las que puedes jugar en España esta es la que más probabilidades ofrece de ganar algo. Si juegas a cualquier otra lotería pública (El Niño, lotería primitiva, BonoLoto, la Quiniela,...) mejor lo enfocas como que estás haciendo una labor social de pagar impuestos voluntariamente, que estás generando empleo, la propia ilusión que te puede generar el participar en el sorteo,..., pero no pienses que vas a dejar de trabajar porque estarías cometiendo un error. Tus probabilidades disminuyen drásticamente. Además, el dinero no da la felicidad.\n",
    "\n",
    "Si gastas una media de 50 € cada año durante 50 años te estarás dejando 2.500 €.\n",
    "\n",
    "Personalmente, hace años que dejé de comprar lotería de navidad y hace años que la gente me mira raro, me llaman el 'Grinch', me dicen que soy un cenizo,...\n",
    "\n",
    "Independientemente de todo lo que has leído hasta aquí, si vas a jugar, ¡te deseo toda la suerte del mundo y me alegraré enormemente si te toca!\n",
    "\n",
    ";-)"
   ]
  }
 ],
 "metadata": {
  "kernelspec": {
   "display_name": "Python 3",
   "language": "python",
   "name": "python3"
  },
  "language_info": {
   "codemirror_mode": {
    "name": "ipython",
    "version": 3
   },
   "file_extension": ".py",
   "mimetype": "text/x-python",
   "name": "python",
   "nbconvert_exporter": "python",
   "pygments_lexer": "ipython3",
   "version": "3.6.4"
  }
 },
 "nbformat": 4,
 "nbformat_minor": 2
}
